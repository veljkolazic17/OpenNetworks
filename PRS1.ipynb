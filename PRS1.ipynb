{
  "nbformat": 4,
  "nbformat_minor": 0,
  "metadata": {
    "colab": {
      "provenance": [],
      "authorship_tag": "ABX9TyOsx82TDuU6LOf/MXnCjFau",
      "include_colab_link": true
    },
    "kernelspec": {
      "name": "python3",
      "display_name": "Python 3"
    },
    "language_info": {
      "name": "python"
    }
  },
  "cells": [
    {
      "cell_type": "markdown",
      "metadata": {
        "id": "view-in-github",
        "colab_type": "text"
      },
      "source": [
        "<a href=\"https://colab.research.google.com/github/veljkolazic17/PRS/blob/main/PRS1.ipynb\" target=\"_parent\"><img src=\"https://colab.research.google.com/assets/colab-badge.svg\" alt=\"Open In Colab\"/></a>"
      ]
    },
    {
      "cell_type": "code",
      "source": [
        "import numpy as np\n",
        "import matplotlib.pyplot as plt\n",
        "import numpy as np"
      ],
      "metadata": {
        "id": "t9vchlClNl2S"
      },
      "execution_count": 28,
      "outputs": []
    },
    {
      "cell_type": "code",
      "source": [
        "K = [2,3,4,5]"
      ],
      "metadata": {
        "id": "4SNlJsrNQUaI"
      },
      "execution_count": 7,
      "outputs": []
    },
    {
      "cell_type": "code",
      "source": [
        "def calculate_lambda(P : np.array) -> np.array:\n",
        "  # Calculate P transposed\n",
        "  PT = P.transpose()\n",
        "  # Calculate Inverse matrix\n",
        "  I = np.identity(P.shape[0])\n",
        "  # Calculate A\n",
        "  A = np.zeros(P.shape[0])\n",
        "  A[0] = 1\n",
        "\n",
        "  # Calculate lambda vector\n",
        "  L = np.matmul(np.linalg.inv(np.subtract(I, PT)), A)\n",
        "  return L"
      ],
      "metadata": {
        "id": "f0uj5S0iNpki"
      },
      "execution_count": 27,
      "outputs": []
    },
    {
      "cell_type": "code",
      "source": [
        "# Define S vector without K disks\n",
        "S = np.array([0.00625, 0.01, 0.015, 0.015])\n",
        "\n",
        "# Write to file L/A\n",
        "P = np.array([[0.2, 0.15, 0.1, 0.05], \n",
        "                [0.3,  0.2,   0,    0],\n",
        "                [0.3,    0, 0.2,    0],\n",
        "                [0.3,    0,   0,  0.2]])\n",
        "\n",
        "f = open('protoci_analiticki', 'w+')\n",
        "\n",
        "a_max_arr = []\n",
        "\n",
        "for k in K:\n",
        "  # Extend P matrix with probabilities of user disks\n",
        "  P_prim = P\n",
        "  S_prim = S\n",
        "\n",
        "  P_prim = np.append(P, np.full([P.shape[0], k], 0.5/k) , axis = 1)\n",
        "  P_prim = np.r_[P_prim, np.zeros([k, k + P_prim.shape[0]])]\n",
        "  # Write to a file\n",
        "  LRes = calculate_lambda(P_prim)\n",
        "  \n",
        "  S_prim = np.append(S, np.full([k], 0.025))\n",
        "  \n",
        "  U_prim = np.multiply(LRes, S_prim)\n",
        "\n",
        "  index = np.argmax(U_prim)\n",
        "  if(index == 0):\n",
        "    print(\"K = %d : Critical resource is processor\" % k)\n",
        "  elif index < 4:\n",
        "    print(\"K = %d : Critical resource is system disk %d\" % (k, index))\n",
        "  else:\n",
        "    print(\"K = %d : Critical resource is user disk %d\" % (k, index - 3))\n",
        "\n",
        "\n",
        "\n",
        "  a_max = (1/S_prim[index])/LRes[index]\n",
        "  a_max_arr.append(a_max)\n",
        "\n",
        "  f.write('K = ' + str(k) + '-'*64 + '\\n' + np.array2string(LRes) + '\\n')\n",
        "\n",
        "f.close()\n",
        "\n",
        "plt.stem(K, a_max_arr, linefmt='--')\n",
        "plt.xlabel(\"K\")\n",
        "plt.ylabel(\"alpha max\")\n",
        "\n",
        "plt.show()\n"
      ],
      "metadata": {
        "id": "dfW0V18QesWQ",
        "colab": {
          "base_uri": "https://localhost:8080/",
          "height": 518
        },
        "outputId": "a9a79ab0-c13a-4cc7-8f18-30bfce26f987"
      },
      "execution_count": 46,
      "outputs": [
        {
          "output_type": "stream",
          "name": "stdout",
          "text": [
            "K = 2 : Critical resource is user disk 1\n",
            "K = 3 : Critical resource is processor\n",
            "K = 4 : Critical resource is processor\n",
            "K = 5 : Critical resource is processor\n"
          ]
        },
        {
          "output_type": "display_data",
          "data": {
            "text/plain": [
              "<Figure size 640x480 with 1 Axes>"
            ],
            "image/png": "[encoded data removed]"
          },
          "metadata": {}
        }
      ]
    },
    {
      "cell_type": "code",
      "source": [],
      "metadata": {
        "id": "LnL0ewe68_Tg"
      },
      "execution_count": null,
      "outputs": []
    }
  ]
}