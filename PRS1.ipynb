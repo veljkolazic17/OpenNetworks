{
  "nbformat": 4,
  "nbformat_minor": 0,
  "metadata": {
    "colab": {
      "provenance": [],
      "authorship_tag": "ABX9TyMJRaszCWZnPLU51RhY7YyX",
      "include_colab_link": true
    },
    "kernelspec": {
      "name": "python3",
      "display_name": "Python 3"
    },
    "language_info": {
      "name": "python"
    }
  },
  "cells": [
    {
      "cell_type": "markdown",
      "metadata": {
        "id": "view-in-github",
        "colab_type": "text"
      },
      "source": [
        "<a href=\"https://colab.research.google.com/github/veljkolazic17/PRS/blob/main/PRS1.ipynb\" target=\"_parent\"><img src=\"https://colab.research.google.com/assets/colab-badge.svg\" alt=\"Open In Colab\"/></a>"
      ]
    },
    {
      "cell_type": "code",
      "source": [
        "import numpy as np"
      ],
      "metadata": {
        "id": "t9vchlClNl2S"
      },
      "execution_count": 5,
      "outputs": []
    },
    {
      "cell_type": "code",
      "source": [
        "K = [2,3,4,5]"
      ],
      "metadata": {
        "id": "4SNlJsrNQUaI"
      },
      "execution_count": 6,
      "outputs": []
    },
    {
      "cell_type": "code",
      "source": [
        "def calculate_lambda(P : np.array, alpha : int = 1) -> np.array:\n",
        "  # Calculate P transposed\n",
        "  PT = P.transpose()\n",
        "  # Calculate Inverse matrix\n",
        "  I = np.identity(P.shape[0])\n",
        "  # Calculate A\n",
        "  A = np.zeros(P.shape[0])\n",
        "  A[0] = alpha\n",
        "\n",
        "  # Calculate lambda vector\n",
        "  L = np.matmul(np.linalg.inv(np.subtract(I, PT)), A)\n",
        "  return L"
      ],
      "metadata": {
        "id": "f0uj5S0iNpki"
      },
      "execution_count": 71,
      "outputs": []
    },
    {
      "cell_type": "code",
      "source": [
        "# Write to file L/A\n",
        "P = np.array([[0.2, 0.15, 0.1, 0.05], \n",
        "                [0.3,  0.2,   0,    0],\n",
        "                [0.3,    0, 0.2,    0],\n",
        "                [0.3,    0,   0,  0.2]])\n",
        "\n",
        "f = open('protoci_analiticki', 'w+')\n",
        "\n",
        "for k in K:\n",
        "  # Extend P matrix with probabilities of user disks\n",
        "  P_prim = P\n",
        "  P_prim = np.append(P, np.full([P.shape[0], k], 0.5/k) , axis = 1)\n",
        "  P_prim = np.r_[P_prim, np.zeros([k, k + P_prim.shape[0]])]\n",
        "  # Write to a file\n",
        "  LRes = calculate_lambda(P_prim)\n",
        "  f.write('K = ' + str(k) + '----------------------------------------------------------------------------------------\\n' + np.array2string(LRes) + '\\n')\n",
        "\n",
        "f.close()\n",
        "  "
      ],
      "metadata": {
        "id": "dfW0V18QesWQ"
      },
      "execution_count": 78,
      "outputs": []
    }
  ]
}